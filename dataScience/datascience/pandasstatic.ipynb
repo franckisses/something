{
 "cells": [
  {
   "cell_type": "markdown",
   "metadata": {},
   "source": [
    "# pandas数据分析之二"
   ]
  },
  {
   "cell_type": "code",
   "execution_count": 1,
   "metadata": {},
   "outputs": [],
   "source": [
    "import pandas as pd\n",
    "import numpy as np"
   ]
  },
  {
   "cell_type": "code",
   "execution_count": 3,
   "metadata": {},
   "outputs": [],
   "source": [
    "df =pd.read_excel('newdata.xlsx')"
   ]
  },
  {
   "cell_type": "code",
   "execution_count": 4,
   "metadata": {},
   "outputs": [
    {
     "data": {
      "text/html": [
       "<div>\n",
       "<style scoped>\n",
       "    .dataframe tbody tr th:only-of-type {\n",
       "        vertical-align: middle;\n",
       "    }\n",
       "\n",
       "    .dataframe tbody tr th {\n",
       "        vertical-align: top;\n",
       "    }\n",
       "\n",
       "    .dataframe thead th {\n",
       "        text-align: right;\n",
       "    }\n",
       "</style>\n",
       "<table border=\"1\" class=\"dataframe\">\n",
       "  <thead>\n",
       "    <tr style=\"text-align: right;\">\n",
       "      <th></th>\n",
       "      <th>编号</th>\n",
       "      <th>股票代码</th>\n",
       "      <th>股票名称</th>\n",
       "      <th>公司名称</th>\n",
       "      <th>省份</th>\n",
       "      <th>城市</th>\n",
       "      <th>收入</th>\n",
       "      <th>利润</th>\n",
       "      <th>员工人数</th>\n",
       "      <th>上市时间</th>\n",
       "      <th>行业</th>\n",
       "      <th>产品类型</th>\n",
       "      <th>主营业务</th>\n",
       "    </tr>\n",
       "  </thead>\n",
       "  <tbody>\n",
       "    <tr>\n",
       "      <th>0</th>\n",
       "      <td>1</td>\n",
       "      <td>1</td>\n",
       "      <td>平安银行</td>\n",
       "      <td>平安银行股份有限公司</td>\n",
       "      <td>深圳市</td>\n",
       "      <td>罗湖区</td>\n",
       "      <td>10578600</td>\n",
       "      <td>2318900</td>\n",
       "      <td>32744</td>\n",
       "      <td>1991/4/3</td>\n",
       "      <td>银行</td>\n",
       "      <td>商业银行业务</td>\n",
       "      <td>经有关监管机构批准的各项商业银行业务</td>\n",
       "    </tr>\n",
       "    <tr>\n",
       "      <th>1</th>\n",
       "      <td>2</td>\n",
       "      <td>2</td>\n",
       "      <td>万科A</td>\n",
       "      <td>万科企业股份有限公司</td>\n",
       "      <td>深圳市</td>\n",
       "      <td>盐田区</td>\n",
       "      <td>24289711.03</td>\n",
       "      <td>2805181.49</td>\n",
       "      <td>92764</td>\n",
       "      <td>1991/1/29</td>\n",
       "      <td>房地产开发</td>\n",
       "      <td>房地产、物业管理、投资咨询</td>\n",
       "      <td>房地产开发和物业服务</td>\n",
       "    </tr>\n",
       "    <tr>\n",
       "      <th>2</th>\n",
       "      <td>3</td>\n",
       "      <td>4</td>\n",
       "      <td>国农科技</td>\n",
       "      <td>深圳中国农大科技股份有限公司</td>\n",
       "      <td>深圳市</td>\n",
       "      <td>南山区</td>\n",
       "      <td>13860.58</td>\n",
       "      <td>856.67</td>\n",
       "      <td>172</td>\n",
       "      <td>1991/1/14</td>\n",
       "      <td>生物医药</td>\n",
       "      <td>生物医药业务</td>\n",
       "      <td>生物制药</td>\n",
       "    </tr>\n",
       "    <tr>\n",
       "      <th>3</th>\n",
       "      <td>4</td>\n",
       "      <td>5</td>\n",
       "      <td>世纪星源</td>\n",
       "      <td>深圳世纪星源股份有限公司</td>\n",
       "      <td>深圳市</td>\n",
       "      <td>罗湖区</td>\n",
       "      <td>53092.22</td>\n",
       "      <td>1530.84</td>\n",
       "      <td>705</td>\n",
       "      <td>1990/12/10</td>\n",
       "      <td>环保工程、物业管理</td>\n",
       "      <td>酒店经营、物业管理收入、环保业务收入</td>\n",
       "      <td>绿色低碳城市社区建设相关的服务业务</td>\n",
       "    </tr>\n",
       "    <tr>\n",
       "      <th>4</th>\n",
       "      <td>5</td>\n",
       "      <td>6</td>\n",
       "      <td>深振业A</td>\n",
       "      <td>深圳市振业(集团)股份有限公司</td>\n",
       "      <td>深圳市</td>\n",
       "      <td>罗湖区</td>\n",
       "      <td>295945.02</td>\n",
       "      <td>80563.64</td>\n",
       "      <td>370</td>\n",
       "      <td>1992/4/27</td>\n",
       "      <td>房地产开发</td>\n",
       "      <td>物业租赁、房产销售</td>\n",
       "      <td>从事房地产开发与销售</td>\n",
       "    </tr>\n",
       "  </tbody>\n",
       "</table>\n",
       "</div>"
      ],
      "text/plain": [
       "   编号  股票代码  股票名称             公司名称   省份   城市           收入          利润   员工人数  \\\n",
       "0   1     1  平安银行       平安银行股份有限公司  深圳市  罗湖区     10578600     2318900  32744   \n",
       "1   2     2   万科A       万科企业股份有限公司  深圳市  盐田区  24289711.03  2805181.49  92764   \n",
       "2   3     4  国农科技   深圳中国农大科技股份有限公司  深圳市  南山区     13860.58      856.67    172   \n",
       "3   4     5  世纪星源     深圳世纪星源股份有限公司  深圳市  罗湖区     53092.22     1530.84    705   \n",
       "4   5     6  深振业A  深圳市振业(集团)股份有限公司  深圳市  罗湖区    295945.02    80563.64    370   \n",
       "\n",
       "         上市时间         行业                产品类型                主营业务  \n",
       "0    1991/4/3         银行              商业银行业务  经有关监管机构批准的各项商业银行业务  \n",
       "1   1991/1/29      房地产开发       房地产、物业管理、投资咨询          房地产开发和物业服务  \n",
       "2   1991/1/14       生物医药              生物医药业务                生物制药  \n",
       "3  1990/12/10  环保工程、物业管理  酒店经营、物业管理收入、环保业务收入   绿色低碳城市社区建设相关的服务业务  \n",
       "4   1992/4/27      房地产开发           物业租赁、房产销售          从事房地产开发与销售  "
      ]
     },
     "execution_count": 4,
     "metadata": {},
     "output_type": "execute_result"
    }
   ],
   "source": [
    "df[:5]"
   ]
  },
  {
   "cell_type": "markdown",
   "metadata": {},
   "source": [
    "## 数据格式的转换"
   ]
  },
  {
   "cell_type": "markdown",
   "metadata": {},
   "source": [
    "### 查看数据的格式"
   ]
  },
  {
   "cell_type": "code",
   "execution_count": 15,
   "metadata": {},
   "outputs": [
    {
     "data": {
      "text/plain": [
       "dtype('O')"
      ]
     },
     "execution_count": 15,
     "metadata": {},
     "output_type": "execute_result"
    }
   ],
   "source": [
    "df['城市'].dtype            #在类型转换之前你必须要保证你的数据是没有脏数据的"
   ]
  },
  {
   "cell_type": "code",
   "execution_count": 30,
   "metadata": {},
   "outputs": [],
   "source": [
    "df['利润'] = df['利润'].astype('float') #将利润的类型转换为浮点型"
   ]
  },
  {
   "cell_type": "code",
   "execution_count": 19,
   "metadata": {},
   "outputs": [
    {
     "data": {
      "text/html": [
       "<div>\n",
       "<style scoped>\n",
       "    .dataframe tbody tr th:only-of-type {\n",
       "        vertical-align: middle;\n",
       "    }\n",
       "\n",
       "    .dataframe tbody tr th {\n",
       "        vertical-align: top;\n",
       "    }\n",
       "\n",
       "    .dataframe thead th {\n",
       "        text-align: right;\n",
       "    }\n",
       "</style>\n",
       "<table border=\"1\" class=\"dataframe\">\n",
       "  <thead>\n",
       "    <tr style=\"text-align: right;\">\n",
       "      <th></th>\n",
       "      <th>编号</th>\n",
       "      <th>股票代码</th>\n",
       "      <th>股票名称</th>\n",
       "      <th>公司名称</th>\n",
       "      <th>省份</th>\n",
       "      <th>城市</th>\n",
       "      <th>收入</th>\n",
       "      <th>利润</th>\n",
       "      <th>员工人数</th>\n",
       "      <th>上市时间</th>\n",
       "      <th>行业</th>\n",
       "      <th>产品类型</th>\n",
       "      <th>主营业务</th>\n",
       "    </tr>\n",
       "  </thead>\n",
       "  <tbody>\n",
       "    <tr>\n",
       "      <th>1757</th>\n",
       "      <td>1758</td>\n",
       "      <td>300372</td>\n",
       "      <td>欣泰退</td>\n",
       "      <td>丹东欣泰电气股份有限公司</td>\n",
       "      <td>--</td>\n",
       "      <td>辽宁</td>\n",
       "      <td>--</td>\n",
       "      <td>--</td>\n",
       "      <td>371</td>\n",
       "      <td>2014/1/27</td>\n",
       "      <td>--</td>\n",
       "      <td>--</td>\n",
       "      <td>节能型输变电设备和无功补偿装置等电网性能优化设备的开发、生产及销售</td>\n",
       "    </tr>\n",
       "  </tbody>\n",
       "</table>\n",
       "</div>"
      ],
      "text/plain": [
       "        编号    股票代码 股票名称          公司名称  省份  城市  收入  利润 员工人数       上市时间  行业  \\\n",
       "1757  1758  300372  欣泰退  丹东欣泰电气股份有限公司  --  辽宁  --  --  371  2014/1/27  --   \n",
       "\n",
       "     产品类型                               主营业务  \n",
       "1757   --  节能型输变电设备和无功补偿装置等电网性能优化设备的开发、生产及销售  "
      ]
     },
     "execution_count": 19,
     "metadata": {},
     "output_type": "execute_result"
    }
   ],
   "source": [
    "df[df['利润']=='--']"
   ]
  },
  {
   "cell_type": "code",
   "execution_count": 25,
   "metadata": {},
   "outputs": [],
   "source": [
    "df.loc[1757,'利润'] = 1000"
   ]
  },
  {
   "cell_type": "code",
   "execution_count": 26,
   "metadata": {},
   "outputs": [
    {
     "data": {
      "text/plain": [
       "编号                                      1759\n",
       "股票代码                                  300373\n",
       "股票名称                                    扬杰科技\n",
       "公司名称                          扬州扬杰电子科技股份有限公司\n",
       "省份                                       扬州市\n",
       "城市                                       邗江区\n",
       "收入                                 146950.84\n",
       "利润                                      1000\n",
       "员工人数                                    1938\n",
       "上市时间                               2014/1/23\n",
       "行业                                   半导体分立器件\n",
       "产品类型                                   电子元器件\n",
       "主营业务    分立器件芯片、功率二极管、整流桥等半导体分立器件产品的研发、制造与销售。\n",
       "Name: 1758, dtype: object"
      ]
     },
     "execution_count": 26,
     "metadata": {},
     "output_type": "execute_result"
    }
   ],
   "source": [
    "df.loc[1758]"
   ]
  },
  {
   "cell_type": "code",
   "execution_count": 16,
   "metadata": {},
   "outputs": [],
   "source": [
    "df['城市'] = df['城市'].astype('str')"
   ]
  },
  {
   "cell_type": "code",
   "execution_count": 17,
   "metadata": {},
   "outputs": [
    {
     "data": {
      "text/plain": [
       "dtype('O')"
      ]
     },
     "execution_count": 17,
     "metadata": {},
     "output_type": "execute_result"
    }
   ],
   "source": [
    "df['城市'].dtype  "
   ]
  },
  {
   "cell_type": "code",
   "execution_count": 28,
   "metadata": {},
   "outputs": [],
   "source": [
    "df['利润'] = df['利润'].astype('float')"
   ]
  },
  {
   "cell_type": "code",
   "execution_count": 31,
   "metadata": {},
   "outputs": [
    {
     "data": {
      "text/plain": [
       "dtype('float64')"
      ]
     },
     "execution_count": 31,
     "metadata": {},
     "output_type": "execute_result"
    }
   ],
   "source": [
    "df['利润'].dtype"
   ]
  },
  {
   "cell_type": "markdown",
   "metadata": {},
   "source": [
    "## 排序"
   ]
  },
  {
   "cell_type": "code",
   "execution_count": 34,
   "metadata": {},
   "outputs": [
    {
     "data": {
      "text/html": [
       "<div>\n",
       "<style scoped>\n",
       "    .dataframe tbody tr th:only-of-type {\n",
       "        vertical-align: middle;\n",
       "    }\n",
       "\n",
       "    .dataframe tbody tr th {\n",
       "        vertical-align: top;\n",
       "    }\n",
       "\n",
       "    .dataframe thead th {\n",
       "        text-align: right;\n",
       "    }\n",
       "</style>\n",
       "<table border=\"1\" class=\"dataframe\">\n",
       "  <thead>\n",
       "    <tr style=\"text-align: right;\">\n",
       "      <th></th>\n",
       "      <th>编号</th>\n",
       "      <th>股票代码</th>\n",
       "      <th>股票名称</th>\n",
       "      <th>公司名称</th>\n",
       "      <th>省份</th>\n",
       "      <th>城市</th>\n",
       "      <th>收入</th>\n",
       "      <th>利润</th>\n",
       "      <th>员工人数</th>\n",
       "      <th>上市时间</th>\n",
       "      <th>行业</th>\n",
       "      <th>产品类型</th>\n",
       "      <th>主营业务</th>\n",
       "    </tr>\n",
       "  </thead>\n",
       "  <tbody>\n",
       "    <tr>\n",
       "      <th>1491</th>\n",
       "      <td>1492</td>\n",
       "      <td>300104</td>\n",
       "      <td>乐视网</td>\n",
       "      <td>乐视网信息技术(北京)股份有限公司</td>\n",
       "      <td>北京市</td>\n",
       "      <td>海淀区</td>\n",
       "      <td>702521.58</td>\n",
       "      <td>-1387804.48</td>\n",
       "      <td>2180</td>\n",
       "      <td>2010/8/12</td>\n",
       "      <td>网络媒体</td>\n",
       "      <td>网络视频服务、网络终端设备、视频平台增值服务</td>\n",
       "      <td>提供网络视频服务、网络终端设备及视频平台增值服务</td>\n",
       "    </tr>\n",
       "    <tr>\n",
       "      <th>2867</th>\n",
       "      <td>2868</td>\n",
       "      <td>600871</td>\n",
       "      <td>*ST油服</td>\n",
       "      <td>中石化石油工程技术服务股份有限公司</td>\n",
       "      <td>北京市</td>\n",
       "      <td>朝阳区</td>\n",
       "      <td>4848578.8</td>\n",
       "      <td>-1058254.10</td>\n",
       "      <td>79375</td>\n",
       "      <td>1995/4/11</td>\n",
       "      <td>油田服务</td>\n",
       "      <td>地球物理、钻井、测录井、井下特种作业、工程建设</td>\n",
       "      <td>油气勘探开发工程施工与技术服务</td>\n",
       "    </tr>\n",
       "    <tr>\n",
       "      <th>2183</th>\n",
       "      <td>2184</td>\n",
       "      <td>600074</td>\n",
       "      <td>*ST保千</td>\n",
       "      <td>江苏保千里视像科技集团股份有限公司</td>\n",
       "      <td>南京市</td>\n",
       "      <td>栖霞区</td>\n",
       "      <td>284581.19</td>\n",
       "      <td>-773209.08</td>\n",
       "      <td>1085</td>\n",
       "      <td>1997/6/23</td>\n",
       "      <td>电子零部件</td>\n",
       "      <td>图像采集分析系列、图像显示处理系列</td>\n",
       "      <td>安防监控设备、夜视仪、商用液晶屏等高端视像产品的研发、生产和销售</td>\n",
       "    </tr>\n",
       "    <tr>\n",
       "      <th>93</th>\n",
       "      <td>94</td>\n",
       "      <td>422</td>\n",
       "      <td>*ST宜化</td>\n",
       "      <td>湖北宜化化工股份有限公司</td>\n",
       "      <td>宜昌市</td>\n",
       "      <td>猇亭区</td>\n",
       "      <td>1195544.15</td>\n",
       "      <td>-509069.52</td>\n",
       "      <td>9871</td>\n",
       "      <td>1996/8/15</td>\n",
       "      <td>氮肥</td>\n",
       "      <td>化肥产品、化工产品</td>\n",
       "      <td>化肥及化工产品的制造和销售。</td>\n",
       "    </tr>\n",
       "    <tr>\n",
       "      <th>314</th>\n",
       "      <td>315</td>\n",
       "      <td>792</td>\n",
       "      <td>盐湖股份</td>\n",
       "      <td>青海盐湖工业股份有限公司</td>\n",
       "      <td>海西蒙古族藏族自治州</td>\n",
       "      <td>格尔木市</td>\n",
       "      <td>1169940.61</td>\n",
       "      <td>-415923.79</td>\n",
       "      <td>17440</td>\n",
       "      <td>1997/9/4</td>\n",
       "      <td>钾肥</td>\n",
       "      <td>制造业、百货业、酒店业、运输业</td>\n",
       "      <td>氯化钾的开发、生产和销售；盐湖资源综合开发利用；其他业务，包括水泥生产、商贸连锁业务以及酒店业务。</td>\n",
       "    </tr>\n",
       "  </tbody>\n",
       "</table>\n",
       "</div>"
      ],
      "text/plain": [
       "        编号    股票代码   股票名称               公司名称          省份    城市          收入  \\\n",
       "1491  1492  300104    乐视网  乐视网信息技术(北京)股份有限公司         北京市   海淀区   702521.58   \n",
       "2867  2868  600871  *ST油服  中石化石油工程技术服务股份有限公司         北京市   朝阳区   4848578.8   \n",
       "2183  2184  600074  *ST保千  江苏保千里视像科技集团股份有限公司         南京市   栖霞区   284581.19   \n",
       "93      94     422  *ST宜化       湖北宜化化工股份有限公司         宜昌市   猇亭区  1195544.15   \n",
       "314    315     792   盐湖股份       青海盐湖工业股份有限公司  海西蒙古族藏族自治州  格尔木市  1169940.61   \n",
       "\n",
       "              利润   员工人数       上市时间     行业                     产品类型  \\\n",
       "1491 -1387804.48   2180  2010/8/12   网络媒体   网络视频服务、网络终端设备、视频平台增值服务   \n",
       "2867 -1058254.10  79375  1995/4/11   油田服务  地球物理、钻井、测录井、井下特种作业、工程建设   \n",
       "2183  -773209.08   1085  1997/6/23  电子零部件        图像采集分析系列、图像显示处理系列   \n",
       "93    -509069.52   9871  1996/8/15     氮肥                化肥产品、化工产品   \n",
       "314   -415923.79  17440   1997/9/4     钾肥          制造业、百货业、酒店业、运输业   \n",
       "\n",
       "                                                   主营业务  \n",
       "1491                           提供网络视频服务、网络终端设备及视频平台增值服务  \n",
       "2867                                    油气勘探开发工程施工与技术服务  \n",
       "2183                   安防监控设备、夜视仪、商用液晶屏等高端视像产品的研发、生产和销售  \n",
       "93                                       化肥及化工产品的制造和销售。  \n",
       "314   氯化钾的开发、生产和销售；盐湖资源综合开发利用；其他业务，包括水泥生产、商贸连锁业务以及酒店业务。  "
      ]
     },
     "execution_count": 34,
     "metadata": {},
     "output_type": "execute_result"
    }
   ],
   "source": [
    "#根据营业额去排序\n",
    "df.sort_values(by='利润')[:5]"
   ]
  },
  {
   "cell_type": "code",
   "execution_count": 36,
   "metadata": {},
   "outputs": [
    {
     "data": {
      "text/html": [
       "<div>\n",
       "<style scoped>\n",
       "    .dataframe tbody tr th:only-of-type {\n",
       "        vertical-align: middle;\n",
       "    }\n",
       "\n",
       "    .dataframe tbody tr th {\n",
       "        vertical-align: top;\n",
       "    }\n",
       "\n",
       "    .dataframe thead th {\n",
       "        text-align: right;\n",
       "    }\n",
       "</style>\n",
       "<table border=\"1\" class=\"dataframe\">\n",
       "  <thead>\n",
       "    <tr style=\"text-align: right;\">\n",
       "      <th></th>\n",
       "      <th>编号</th>\n",
       "      <th>股票代码</th>\n",
       "      <th>股票名称</th>\n",
       "      <th>公司名称</th>\n",
       "      <th>省份</th>\n",
       "      <th>城市</th>\n",
       "      <th>收入</th>\n",
       "      <th>利润</th>\n",
       "      <th>员工人数</th>\n",
       "      <th>上市时间</th>\n",
       "      <th>行业</th>\n",
       "      <th>产品类型</th>\n",
       "      <th>主营业务</th>\n",
       "    </tr>\n",
       "  </thead>\n",
       "  <tbody>\n",
       "    <tr>\n",
       "      <th>3032</th>\n",
       "      <td>3033</td>\n",
       "      <td>601398</td>\n",
       "      <td>工商银行</td>\n",
       "      <td>中国工商银行股份有限公司</td>\n",
       "      <td>北京市</td>\n",
       "      <td>西城区</td>\n",
       "      <td>72650200</td>\n",
       "      <td>28604900.0</td>\n",
       "      <td>453048</td>\n",
       "      <td>2006/10/27</td>\n",
       "      <td>银行</td>\n",
       "      <td>银行业</td>\n",
       "      <td>从事公司和个人金融业务、资金业务、投资银行业务，并提供资产管理、信托、金融租赁及其他金融服务。</td>\n",
       "    </tr>\n",
       "    <tr>\n",
       "      <th>3106</th>\n",
       "      <td>3107</td>\n",
       "      <td>601939</td>\n",
       "      <td>建设银行</td>\n",
       "      <td>中国建设银行股份有限公司</td>\n",
       "      <td>北京市</td>\n",
       "      <td>西城区</td>\n",
       "      <td>62165900</td>\n",
       "      <td>24226400.0</td>\n",
       "      <td>352621</td>\n",
       "      <td>2007/9/25</td>\n",
       "      <td>银行</td>\n",
       "      <td>公司银行业务、个人银行业务</td>\n",
       "      <td>银行业及有关的金融服务</td>\n",
       "    </tr>\n",
       "    <tr>\n",
       "      <th>3013</th>\n",
       "      <td>3014</td>\n",
       "      <td>601288</td>\n",
       "      <td>农业银行</td>\n",
       "      <td>中国农业银行股份有限公司</td>\n",
       "      <td>北京市</td>\n",
       "      <td>东城区</td>\n",
       "      <td>53704100</td>\n",
       "      <td>19296200.0</td>\n",
       "      <td>487307</td>\n",
       "      <td>2010/7/15</td>\n",
       "      <td>银行</td>\n",
       "      <td>公司金融业务、个人金融业务、资金业务</td>\n",
       "      <td>提供银行及相关金融服务</td>\n",
       "    </tr>\n",
       "    <tr>\n",
       "      <th>3115</th>\n",
       "      <td>3116</td>\n",
       "      <td>601988</td>\n",
       "      <td>中国银行</td>\n",
       "      <td>中国银行股份有限公司</td>\n",
       "      <td>北京市</td>\n",
       "      <td>西城区</td>\n",
       "      <td>48327800</td>\n",
       "      <td>17240700.0</td>\n",
       "      <td>311133</td>\n",
       "      <td>2006/7/5</td>\n",
       "      <td>银行</td>\n",
       "      <td>银行金融</td>\n",
       "      <td>从事银行业及有关的金融服务，包括商业银行业务、投资银行业务、保险业务、直接投资和投资管理业务...</td>\n",
       "    </tr>\n",
       "    <tr>\n",
       "      <th>3016</th>\n",
       "      <td>3017</td>\n",
       "      <td>601318</td>\n",
       "      <td>中国平安</td>\n",
       "      <td>中国平安保险(集团)股份有限公司</td>\n",
       "      <td>深圳市</td>\n",
       "      <td>福田区</td>\n",
       "      <td>89088200</td>\n",
       "      <td>8908800.0</td>\n",
       "      <td>342550</td>\n",
       "      <td>2007/3/1</td>\n",
       "      <td>保险</td>\n",
       "      <td>金融产品及服务</td>\n",
       "      <td>从事金融业，提供多元化的金融产品及服务</td>\n",
       "    </tr>\n",
       "  </tbody>\n",
       "</table>\n",
       "</div>"
      ],
      "text/plain": [
       "        编号    股票代码  股票名称              公司名称   省份   城市        收入          利润  \\\n",
       "3032  3033  601398  工商银行      中国工商银行股份有限公司  北京市  西城区  72650200  28604900.0   \n",
       "3106  3107  601939  建设银行      中国建设银行股份有限公司  北京市  西城区  62165900  24226400.0   \n",
       "3013  3014  601288  农业银行      中国农业银行股份有限公司  北京市  东城区  53704100  19296200.0   \n",
       "3115  3116  601988  中国银行        中国银行股份有限公司  北京市  西城区  48327800  17240700.0   \n",
       "3016  3017  601318  中国平安  中国平安保险(集团)股份有限公司  深圳市  福田区  89088200   8908800.0   \n",
       "\n",
       "        员工人数        上市时间  行业                产品类型  \\\n",
       "3032  453048  2006/10/27  银行                 银行业   \n",
       "3106  352621   2007/9/25  银行       公司银行业务、个人银行业务   \n",
       "3013  487307   2010/7/15  银行  公司金融业务、个人金融业务、资金业务   \n",
       "3115  311133    2006/7/5  银行                银行金融   \n",
       "3016  342550    2007/3/1  保险             金融产品及服务   \n",
       "\n",
       "                                                   主营业务  \n",
       "3032    从事公司和个人金融业务、资金业务、投资银行业务，并提供资产管理、信托、金融租赁及其他金融服务。  \n",
       "3106                                        银行业及有关的金融服务  \n",
       "3013                                        提供银行及相关金融服务  \n",
       "3115  从事银行业及有关的金融服务，包括商业银行业务、投资银行业务、保险业务、直接投资和投资管理业务...  \n",
       "3016                                从事金融业，提供多元化的金融产品及服务  "
      ]
     },
     "execution_count": 36,
     "metadata": {},
     "output_type": "execute_result"
    }
   ],
   "source": [
    "df.sort_values(by='利润',ascending=False)[:5] #按照盈利能力排序"
   ]
  },
  {
   "cell_type": "code",
   "execution_count": 38,
   "metadata": {},
   "outputs": [
    {
     "data": {
      "text/html": [
       "<div>\n",
       "<style scoped>\n",
       "    .dataframe tbody tr th:only-of-type {\n",
       "        vertical-align: middle;\n",
       "    }\n",
       "\n",
       "    .dataframe tbody tr th {\n",
       "        vertical-align: top;\n",
       "    }\n",
       "\n",
       "    .dataframe thead th {\n",
       "        text-align: right;\n",
       "    }\n",
       "</style>\n",
       "<table border=\"1\" class=\"dataframe\">\n",
       "  <thead>\n",
       "    <tr style=\"text-align: right;\">\n",
       "      <th></th>\n",
       "      <th>编号</th>\n",
       "      <th>股票代码</th>\n",
       "      <th>股票名称</th>\n",
       "      <th>公司名称</th>\n",
       "      <th>省份</th>\n",
       "      <th>城市</th>\n",
       "      <th>收入</th>\n",
       "      <th>利润</th>\n",
       "      <th>员工人数</th>\n",
       "      <th>上市时间</th>\n",
       "      <th>行业</th>\n",
       "      <th>产品类型</th>\n",
       "      <th>主营业务</th>\n",
       "    </tr>\n",
       "  </thead>\n",
       "  <tbody>\n",
       "    <tr>\n",
       "      <th>1380</th>\n",
       "      <td>1381</td>\n",
       "      <td>2935</td>\n",
       "      <td>天奥电子</td>\n",
       "      <td>成都天奥电子股份有限公司</td>\n",
       "      <td>四川</td>\n",
       "      <td>成都市</td>\n",
       "      <td>82012.21</td>\n",
       "      <td>9251.60</td>\n",
       "      <td>509</td>\n",
       "      <td>2018/9/3</td>\n",
       "      <td>未知</td>\n",
       "      <td>北斗卫星应用产品、时间频率产品</td>\n",
       "      <td>时间频率产品、北斗卫星应用产品的研发、设计、生产和销售</td>\n",
       "    </tr>\n",
       "    <tr>\n",
       "      <th>1382</th>\n",
       "      <td>1383</td>\n",
       "      <td>2937</td>\n",
       "      <td>兴瑞科技</td>\n",
       "      <td>NaN</td>\n",
       "      <td>浙江</td>\n",
       "      <td>宁波市</td>\n",
       "      <td>87800.45</td>\n",
       "      <td>8378.37</td>\n",
       "      <td>NaN</td>\n",
       "      <td>2018/9/26</td>\n",
       "      <td>未知</td>\n",
       "      <td>NaN</td>\n",
       "      <td>NaN</td>\n",
       "    </tr>\n",
       "    <tr>\n",
       "      <th>3041</th>\n",
       "      <td>3042</td>\n",
       "      <td>601577</td>\n",
       "      <td>长沙银行</td>\n",
       "      <td>--</td>\n",
       "      <td>湖南</td>\n",
       "      <td>长沙市</td>\n",
       "      <td>1212755.9</td>\n",
       "      <td>393071.30</td>\n",
       "      <td>--</td>\n",
       "      <td>2018/9/26</td>\n",
       "      <td>--</td>\n",
       "      <td>--</td>\n",
       "      <td>--</td>\n",
       "    </tr>\n",
       "    <tr>\n",
       "      <th>2122</th>\n",
       "      <td>2123</td>\n",
       "      <td>300749</td>\n",
       "      <td>顶固集创</td>\n",
       "      <td>--</td>\n",
       "      <td>广东</td>\n",
       "      <td>中山市</td>\n",
       "      <td>80756.78</td>\n",
       "      <td>7431.12</td>\n",
       "      <td>--</td>\n",
       "      <td>2018/9/25</td>\n",
       "      <td>--</td>\n",
       "      <td>--</td>\n",
       "      <td>--</td>\n",
       "    </tr>\n",
       "    <tr>\n",
       "      <th>3368</th>\n",
       "      <td>3369</td>\n",
       "      <td>603583</td>\n",
       "      <td>捷昌驱动</td>\n",
       "      <td>--</td>\n",
       "      <td>浙江</td>\n",
       "      <td>绍兴市</td>\n",
       "      <td>69472.57</td>\n",
       "      <td>15781.58</td>\n",
       "      <td>--</td>\n",
       "      <td>2018/9/21</td>\n",
       "      <td>--</td>\n",
       "      <td>--</td>\n",
       "      <td>--</td>\n",
       "    </tr>\n",
       "  </tbody>\n",
       "</table>\n",
       "</div>"
      ],
      "text/plain": [
       "        编号    股票代码  股票名称          公司名称  省份   城市         收入         利润 员工人数  \\\n",
       "1380  1381    2935  天奥电子  成都天奥电子股份有限公司  四川  成都市   82012.21    9251.60  509   \n",
       "1382  1383    2937  兴瑞科技           NaN  浙江  宁波市   87800.45    8378.37  NaN   \n",
       "3041  3042  601577  长沙银行            --  湖南  长沙市  1212755.9  393071.30   --   \n",
       "2122  2123  300749  顶固集创            --  广东  中山市   80756.78    7431.12   --   \n",
       "3368  3369  603583  捷昌驱动            --  浙江  绍兴市   69472.57   15781.58   --   \n",
       "\n",
       "           上市时间  行业             产品类型                         主营业务  \n",
       "1380   2018/9/3  未知  北斗卫星应用产品、时间频率产品  时间频率产品、北斗卫星应用产品的研发、设计、生产和销售  \n",
       "1382  2018/9/26  未知              NaN                          NaN  \n",
       "3041  2018/9/26  --               --                           --  \n",
       "2122  2018/9/25  --               --                           --  \n",
       "3368  2018/9/21  --               --                           --  "
      ]
     },
     "execution_count": 38,
     "metadata": {},
     "output_type": "execute_result"
    }
   ],
   "source": [
    "df.sort_values(by='上市时间',ascending=False)[:5] #按照上市时间的顺序排序"
   ]
  },
  {
   "cell_type": "markdown",
   "metadata": {},
   "source": [
    "### 根据多个值进行排序"
   ]
  },
  {
   "cell_type": "code",
   "execution_count": 40,
   "metadata": {},
   "outputs": [
    {
     "data": {
      "text/html": [
       "<div>\n",
       "<style scoped>\n",
       "    .dataframe tbody tr th:only-of-type {\n",
       "        vertical-align: middle;\n",
       "    }\n",
       "\n",
       "    .dataframe tbody tr th {\n",
       "        vertical-align: top;\n",
       "    }\n",
       "\n",
       "    .dataframe thead th {\n",
       "        text-align: right;\n",
       "    }\n",
       "</style>\n",
       "<table border=\"1\" class=\"dataframe\">\n",
       "  <thead>\n",
       "    <tr style=\"text-align: right;\">\n",
       "      <th></th>\n",
       "      <th>编号</th>\n",
       "      <th>股票代码</th>\n",
       "      <th>股票名称</th>\n",
       "      <th>公司名称</th>\n",
       "      <th>省份</th>\n",
       "      <th>城市</th>\n",
       "      <th>收入</th>\n",
       "      <th>利润</th>\n",
       "      <th>员工人数</th>\n",
       "      <th>上市时间</th>\n",
       "      <th>行业</th>\n",
       "      <th>产品类型</th>\n",
       "      <th>主营业务</th>\n",
       "    </tr>\n",
       "  </thead>\n",
       "  <tbody>\n",
       "    <tr>\n",
       "      <th>3032</th>\n",
       "      <td>3033</td>\n",
       "      <td>601398</td>\n",
       "      <td>工商银行</td>\n",
       "      <td>中国工商银行股份有限公司</td>\n",
       "      <td>北京市</td>\n",
       "      <td>西城区</td>\n",
       "      <td>72650200</td>\n",
       "      <td>28604900.0</td>\n",
       "      <td>453048</td>\n",
       "      <td>2006/10/27</td>\n",
       "      <td>银行</td>\n",
       "      <td>银行业</td>\n",
       "      <td>从事公司和个人金融业务、资金业务、投资银行业务，并提供资产管理、信托、金融租赁及其他金融服务。</td>\n",
       "    </tr>\n",
       "    <tr>\n",
       "      <th>3106</th>\n",
       "      <td>3107</td>\n",
       "      <td>601939</td>\n",
       "      <td>建设银行</td>\n",
       "      <td>中国建设银行股份有限公司</td>\n",
       "      <td>北京市</td>\n",
       "      <td>西城区</td>\n",
       "      <td>62165900</td>\n",
       "      <td>24226400.0</td>\n",
       "      <td>352621</td>\n",
       "      <td>2007/9/25</td>\n",
       "      <td>银行</td>\n",
       "      <td>公司银行业务、个人银行业务</td>\n",
       "      <td>银行业及有关的金融服务</td>\n",
       "    </tr>\n",
       "    <tr>\n",
       "      <th>3013</th>\n",
       "      <td>3014</td>\n",
       "      <td>601288</td>\n",
       "      <td>农业银行</td>\n",
       "      <td>中国农业银行股份有限公司</td>\n",
       "      <td>北京市</td>\n",
       "      <td>东城区</td>\n",
       "      <td>53704100</td>\n",
       "      <td>19296200.0</td>\n",
       "      <td>487307</td>\n",
       "      <td>2010/7/15</td>\n",
       "      <td>银行</td>\n",
       "      <td>公司金融业务、个人金融业务、资金业务</td>\n",
       "      <td>提供银行及相关金融服务</td>\n",
       "    </tr>\n",
       "    <tr>\n",
       "      <th>3115</th>\n",
       "      <td>3116</td>\n",
       "      <td>601988</td>\n",
       "      <td>中国银行</td>\n",
       "      <td>中国银行股份有限公司</td>\n",
       "      <td>北京市</td>\n",
       "      <td>西城区</td>\n",
       "      <td>48327800</td>\n",
       "      <td>17240700.0</td>\n",
       "      <td>311133</td>\n",
       "      <td>2006/7/5</td>\n",
       "      <td>银行</td>\n",
       "      <td>银行金融</td>\n",
       "      <td>从事银行业及有关的金融服务，包括商业银行业务、投资银行业务、保险业务、直接投资和投资管理业务...</td>\n",
       "    </tr>\n",
       "    <tr>\n",
       "      <th>3016</th>\n",
       "      <td>3017</td>\n",
       "      <td>601318</td>\n",
       "      <td>中国平安</td>\n",
       "      <td>中国平安保险(集团)股份有限公司</td>\n",
       "      <td>深圳市</td>\n",
       "      <td>福田区</td>\n",
       "      <td>89088200</td>\n",
       "      <td>8908800.0</td>\n",
       "      <td>342550</td>\n",
       "      <td>2007/3/1</td>\n",
       "      <td>保险</td>\n",
       "      <td>金融产品及服务</td>\n",
       "      <td>从事金融业，提供多元化的金融产品及服务</td>\n",
       "    </tr>\n",
       "  </tbody>\n",
       "</table>\n",
       "</div>"
      ],
      "text/plain": [
       "        编号    股票代码  股票名称              公司名称   省份   城市        收入          利润  \\\n",
       "3032  3033  601398  工商银行      中国工商银行股份有限公司  北京市  西城区  72650200  28604900.0   \n",
       "3106  3107  601939  建设银行      中国建设银行股份有限公司  北京市  西城区  62165900  24226400.0   \n",
       "3013  3014  601288  农业银行      中国农业银行股份有限公司  北京市  东城区  53704100  19296200.0   \n",
       "3115  3116  601988  中国银行        中国银行股份有限公司  北京市  西城区  48327800  17240700.0   \n",
       "3016  3017  601318  中国平安  中国平安保险(集团)股份有限公司  深圳市  福田区  89088200   8908800.0   \n",
       "\n",
       "        员工人数        上市时间  行业                产品类型  \\\n",
       "3032  453048  2006/10/27  银行                 银行业   \n",
       "3106  352621   2007/9/25  银行       公司银行业务、个人银行业务   \n",
       "3013  487307   2010/7/15  银行  公司金融业务、个人金融业务、资金业务   \n",
       "3115  311133    2006/7/5  银行                银行金融   \n",
       "3016  342550    2007/3/1  保险             金融产品及服务   \n",
       "\n",
       "                                                   主营业务  \n",
       "3032    从事公司和个人金融业务、资金业务、投资银行业务，并提供资产管理、信托、金融租赁及其他金融服务。  \n",
       "3106                                        银行业及有关的金融服务  \n",
       "3013                                        提供银行及相关金融服务  \n",
       "3115  从事银行业及有关的金融服务，包括商业银行业务、投资银行业务、保险业务、直接投资和投资管理业务...  \n",
       "3016                                从事金融业，提供多元化的金融产品及服务  "
      ]
     },
     "execution_count": 40,
     "metadata": {},
     "output_type": "execute_result"
    }
   ],
   "source": [
    "df.sort_values(by=['利润','上市时间'],ascending=False)[:5]"
   ]
  },
  {
   "cell_type": "markdown",
   "metadata": {},
   "source": [
    "## 基本统计分析"
   ]
  },
  {
   "cell_type": "code",
   "execution_count": 41,
   "metadata": {},
   "outputs": [
    {
     "data": {
      "text/html": [
       "<div>\n",
       "<style scoped>\n",
       "    .dataframe tbody tr th:only-of-type {\n",
       "        vertical-align: middle;\n",
       "    }\n",
       "\n",
       "    .dataframe tbody tr th {\n",
       "        vertical-align: top;\n",
       "    }\n",
       "\n",
       "    .dataframe thead th {\n",
       "        text-align: right;\n",
       "    }\n",
       "</style>\n",
       "<table border=\"1\" class=\"dataframe\">\n",
       "  <thead>\n",
       "    <tr style=\"text-align: right;\">\n",
       "      <th></th>\n",
       "      <th>编号</th>\n",
       "      <th>股票代码</th>\n",
       "      <th>利润</th>\n",
       "    </tr>\n",
       "  </thead>\n",
       "  <tbody>\n",
       "    <tr>\n",
       "      <th>count</th>\n",
       "      <td>3573.000000</td>\n",
       "      <td>3573.000000</td>\n",
       "      <td>3.571000e+03</td>\n",
       "    </tr>\n",
       "    <tr>\n",
       "      <th>mean</th>\n",
       "      <td>1787.000000</td>\n",
       "      <td>306122.802967</td>\n",
       "      <td>9.537248e+04</td>\n",
       "    </tr>\n",
       "    <tr>\n",
       "      <th>std</th>\n",
       "      <td>1031.580583</td>\n",
       "      <td>267049.878499</td>\n",
       "      <td>8.441514e+05</td>\n",
       "    </tr>\n",
       "    <tr>\n",
       "      <th>min</th>\n",
       "      <td>1.000000</td>\n",
       "      <td>1.000000</td>\n",
       "      <td>-1.387804e+06</td>\n",
       "    </tr>\n",
       "    <tr>\n",
       "      <th>25%</th>\n",
       "      <td>894.000000</td>\n",
       "      <td>2428.000000</td>\n",
       "      <td>5.289465e+03</td>\n",
       "    </tr>\n",
       "    <tr>\n",
       "      <th>50%</th>\n",
       "      <td>1787.000000</td>\n",
       "      <td>300401.000000</td>\n",
       "      <td>1.308177e+04</td>\n",
       "    </tr>\n",
       "    <tr>\n",
       "      <th>75%</th>\n",
       "      <td>2680.000000</td>\n",
       "      <td>600666.000000</td>\n",
       "      <td>3.917419e+04</td>\n",
       "    </tr>\n",
       "    <tr>\n",
       "      <th>max</th>\n",
       "      <td>3573.000000</td>\n",
       "      <td>603999.000000</td>\n",
       "      <td>2.860490e+07</td>\n",
       "    </tr>\n",
       "  </tbody>\n",
       "</table>\n",
       "</div>"
      ],
      "text/plain": [
       "                编号           股票代码            利润\n",
       "count  3573.000000    3573.000000  3.571000e+03\n",
       "mean   1787.000000  306122.802967  9.537248e+04\n",
       "std    1031.580583  267049.878499  8.441514e+05\n",
       "min       1.000000       1.000000 -1.387804e+06\n",
       "25%     894.000000    2428.000000  5.289465e+03\n",
       "50%    1787.000000  300401.000000  1.308177e+04\n",
       "75%    2680.000000  600666.000000  3.917419e+04\n",
       "max    3573.000000  603999.000000  2.860490e+07"
      ]
     },
     "execution_count": 41,
     "metadata": {},
     "output_type": "execute_result"
    }
   ],
   "source": [
    "df.describe()  #对于dataframe中的数据进行统计行的描述"
   ]
  },
  {
   "cell_type": "code",
   "execution_count": 42,
   "metadata": {},
   "outputs": [
    {
     "data": {
      "text/plain": [
       "28604900.0"
      ]
     },
     "execution_count": 42,
     "metadata": {},
     "output_type": "execute_result"
    }
   ],
   "source": [
    "df['利润'].max()"
   ]
  },
  {
   "cell_type": "code",
   "execution_count": 43,
   "metadata": {},
   "outputs": [
    {
     "data": {
      "text/plain": [
       "-1387804.48"
      ]
     },
     "execution_count": 43,
     "metadata": {},
     "output_type": "execute_result"
    }
   ],
   "source": [
    "df['利润'].min()"
   ]
  },
  {
   "cell_type": "code",
   "execution_count": 46,
   "metadata": {},
   "outputs": [
    {
     "data": {
      "text/plain": [
       "95372.48274712956"
      ]
     },
     "execution_count": 46,
     "metadata": {},
     "output_type": "execute_result"
    }
   ],
   "source": [
    "df['利润'].mean()   #查找均值"
   ]
  },
  {
   "cell_type": "code",
   "execution_count": 45,
   "metadata": {},
   "outputs": [
    {
     "data": {
      "text/plain": [
       "13081.77"
      ]
     },
     "execution_count": 45,
     "metadata": {},
     "output_type": "execute_result"
    }
   ],
   "source": [
    "df['利润'].median()  #查找中位数"
   ]
  },
  {
   "cell_type": "code",
   "execution_count": 47,
   "metadata": {},
   "outputs": [
    {
     "data": {
      "text/plain": [
       "712591632637.9795"
      ]
     },
     "execution_count": 47,
     "metadata": {},
     "output_type": "execute_result"
    }
   ],
   "source": [
    "df['利润'].var()  #方差"
   ]
  },
  {
   "cell_type": "code",
   "execution_count": 48,
   "metadata": {},
   "outputs": [
    {
     "data": {
      "text/plain": [
       "844151.4275519408"
      ]
     },
     "execution_count": 48,
     "metadata": {},
     "output_type": "execute_result"
    }
   ],
   "source": [
    "df['利润'].std()  #标准差"
   ]
  },
  {
   "cell_type": "code",
   "execution_count": 50,
   "metadata": {},
   "outputs": [
    {
     "data": {
      "text/plain": [
       "340575135.89"
      ]
     },
     "execution_count": 50,
     "metadata": {},
     "output_type": "execute_result"
    }
   ],
   "source": [
    "df['利润'].sum()"
   ]
  },
  {
   "cell_type": "code",
   "execution_count": 51,
   "metadata": {},
   "outputs": [
    {
     "data": {
      "text/plain": [
       "3573"
      ]
     },
     "execution_count": 51,
     "metadata": {},
     "output_type": "execute_result"
    }
   ],
   "source": [
    "len(df)"
   ]
  },
  {
   "cell_type": "code",
   "execution_count": 54,
   "metadata": {},
   "outputs": [
    {
     "data": {
      "text/plain": [
       "array(['罗湖区', '盐田区', '南山区', '福田区', '海淀区', '宝安区', '深圳市', '龙岗区', '绿园区',\n",
       "       '广东', '海安县', '东城区', '双台子区', '丰台区', '惠城区', '澄海区', '无为县', '青白江区',\n",
       "       '滨江区', '岳麓区', '长安区', '新市区', '天山区', '吴江区', '顺德区', '奎文区', '魏都区',\n",
       "       '丰润区', '西城区', '小店区', '昌江区', '历下区', '格尔木市', '历城区', '于洪区', '下城区',\n",
       "       '石家庄市', '沙依巴克区', '崂山区', '庐阳区', '无锡市', '雨花区', '昌邑区', '建邺区', '猇亭区',\n",
       "       '东阿县', '鼓楼区', '松山区', '芙蓉区', '越秀区', '永定区', '寿光市', '市中区', '江汉区',\n",
       "       '海珠区', '龙华区', '天心区', '珠海市', '顺庆区', '旌阳区', '沈河区', '金湾区', '渝中区',\n",
       "       '碑林区', '海曙区', '江阴市', '湘潭市', '蜀山区', '天河区', '高淳区', '湖里区', '柳南区',\n",
       "       '沙河口区', '萝岗区', '香洲区', '龙湖区', '马尾区', '滨海新区', '呈贡区', '贵阳市', '禅城区',\n",
       "       '包河区', '金水区', '朝阳区', '台江区', '青云谱区', '虎丘区', '平川区', '沙市区', '泰山区',\n",
       "       '金凤区', '西湖区', '萧山区', '五华区', '宝鸡市', '雁塔区', '新城区', '江津区', '秀英区',\n",
       "       '海口市', '江阳区', '钟楼区', '美兰区', '东莞市', '蓬江区', '滨湖区', '海城区', '新北区',\n",
       "       '金牛区', '伊春区', '乌当区', '蒸湘区', '平潭县', '成华区', '西夏区', '亳州市', '青羊区',\n",
       "       '黄岛区', '武江区', '大兴区', '顺义区', '城东区', '江南区', '青山区', '马村区', '三亚市',\n",
       "       '樊城区', '中山区', '克拉玛依区', '鸠江区', '通州区', '岳阳楼区', '敦化市', '江北区', '连云港市',\n",
       "       '荆门市', '武侯区', '东区', '铜官区', '沈阳市', '惠农区', '端州区', '茂南区', '和平区',\n",
       "       '邹平县', '青山湖区', '张店区', '长洲区', '永安市', '汉阳区', '浦东新区', '吉林市', '白银区',\n",
       "       '南郊区', '郑州市', '寒亭区', '襄城区', '任城区', '武进区', '芝罘区', '东胜区', '中山市',\n",
       "       '竞秀区', '涪陵区', '梅县区', '城关区', '温江区', '秦都区', '铁西区', '汨罗市', '越城区',\n",
       "       '应城市', '西塞山区', '裕华区', '龙泉驿区', '南岗区', '合肥市', '容县', '曲江区', '解放区',\n",
       "       '清徐县', '浦口区', '射洪县', '梅列区', '盐湖区', '东阳市', '七星区', '龙港区', '芗城区',\n",
       "       '洪洞县', '硚口区', '公安县', '平山区', '二道江区', '阎良区', '黄埔区', '常熟市', '武安市',\n",
       "       '皋兰县', '元宝山区', '新会区', '武昌区', '北碚区', '万年县', '迎泽区', '渭滨区', '吉首市',\n",
       "       '长春市', '绵阳市', '门头沟区', '铁岭县', '船山区', '兴庆区', '亭湖区', '连山区', '云溪区',\n",
       "       '凌海市', '京山县', '尖草坪区', '伍家岗区', '赣州市', '聊城市', '夏县', '港北区', '天津市',\n",
       "       '双桥区', '安庆市', '花溪区', '江夏区', '曹妃甸区', '翠屏区', '杨浦区', '南关区', '涪城区',\n",
       "       '达坂城区', '潍坊市', '西岗区', '宣城市', '峨眉山市', '海港区', '南沙区', '源汇区', '平房区',\n",
       "       '官渡区', '平江县', '丹阳市', '青秀区', '成都市', '温岭市', '沂南县', '开福区', '上城区',\n",
       "       '栖霞区', '白云区', '前进区', '宣化区', '汉川市', '西青区', '七里河区', '禹会区', '永城市',\n",
       "       '江油市', '桥西区', '凤泉区', '武穴市', '河池市', '澄迈县', '东昌府区', '石景山区', '海门市',\n",
       "       '大武口区', '东丽区', '洪山区', '上虞区', '万柏林区', '仙桃市', '西乌珠穆沁旗', '开平市', '象山区',\n",
       "       '埇桥区', '歙县', '灵武市', '大庆市', '蕉城区', '凉州区', '巴南区', '北京市', '新昌县',\n",
       "       '广陵区', '临海市', '渝北区', '柯桥区', '新乡市', '惠山区', '诸暨市', '遂昌县', '徽州区',\n",
       "       '斗门区', '马鞍山市', '临安区', '玉环县', '徐汇区', '文登区', '闵行区', '晋江市', '揭东区',\n",
       "       '古城区', '湖州市', '南明区', '莱州市', '烈山区', '德清县', '崇川区', '花都区', '涧西区',\n",
       "       '象山县', '玉田县', '雨山区', '盘龙区', '增城区', '江山市', '瑞安市', '平湖市', '景德镇市',\n",
       "       '长海县', '秀屿区', '张家港市', '德城区', '南海区', '京口区', '兖州区', '江宁区', '吴中区',\n",
       "       '高密市', '番禺区', '莱山区', '新野县', '沂源县', '即墨区', '双牌县', '长沙县', '椒江区',\n",
       "       '高要市', '德化县', '运河区', '兴平市', '环翠区', '三门县', '罗平县', '柳河县', '鄞州区',\n",
       "       '慈溪市', '拱墅区', '铁东区', '余姚市', '雨湖区', '天台县', '霍林郭勒市', '坪山区', '巩义市',\n",
       "       '海宁市', '嘉峪关市', '广阳区', '高陵区', '永嘉县', '南通市', '南昌县', '金山区', '临桂区',\n",
       "       '袁州区', '普陀区', '溧水区', '秦州区', '嘉善县', '卧龙区', '莲都区', '梅州市', '婺城区',\n",
       "       '如皋市', '米东区', '克拉玛依市', '扬中市', '惠济区', '康县', '金州区', '濮阳县', '宁国市',\n",
       "       '同安区', '仓山区', '浑南区', '蕉岭县', '蓬莱市', '集美区', '牟平区', '槐荫区', '泸州市',\n",
       "       '威海市', '黄岩区', '奉贤区', '福山区', '锦江区', '思明区', '西山区', '桐庐县', '未央区',\n",
       "       '天桥区', '大安区', '禹城市', '巴宜区', '光泽县', '延平区', '宿迁市', '南浔区', '潢川县',\n",
       "       '北仑区', '盐都区', '虹口区', '青浦区', '西乡塘区', '诸城市', '仙居县', '相城区', '二道区',\n",
       "       '徐水区', '南湖区', '普宁市', '港闸区', '当涂县', '龙口市', '长葛市', '河曲县', '杭州市',\n",
       "       '潜江市', '青神县', '崇义县', '博兴县', '桐乡市', '临淄区', '金平区', '罗甸县', '江都区',\n",
       "       '昌平区', '秀洲区', '许昌市', '中站区', '宜兴市', '如东县', '赫山区', '淳安县', '新都区',\n",
       "       '济源市', '西秀区', '临翔区', '南开区', '呼兰区', '启东市', '汕头市', '沙河市', '江干区',\n",
       "       '三水区', '瓦房店市', '孟州市', '长沙市', '青铜峡市', '渝水区', '昆山市', '临沭县', '东营区',\n",
       "       '新郑市', '常州市', '富阳市', '新津县', '招远市', '新邱区', '富阳区', '肃宁县', '大丰区',\n",
       "       '名山区', '杏花岭区', '龙山区', '鹤城区', '余杭区', '南安市', '新沂市', '鲤城区', '石峰区',\n",
       "       '昌乐县', '嘉定区', '闽侯县', '太仓市', '林州市', '西峡县', '胶州市', '南陵县', '南岸区',\n",
       "       '偃师市', '瓯海区', '集安市', '天元区', '凤阳县', '曲阜市', '宿豫区', '江东区', '来安县',\n",
       "       '章丘市', '玄武区', '永康市', '大连市', '船营区', '天宁区', '海沧区', '龙湾区', '沿滩区',\n",
       "       '义乌市', '松江区', '长乐市', '烟台市', '海东市', '宁乡县', '乃东区', '坊子区', '南县',\n",
       "       '立山区', '博山区', '荔湾区', '将乐县', '东海县', '新罗区', '路桥区', '平阳县', '托克托县',\n",
       "       '肥西县', '鄂城区', '郫都区', '道里区', '阿克苏市', '怀柔区', '房山区', '内乡县', '怀集县',\n",
       "       '苏仙区', '海盐县', '昌吉市', '莱阳市', '台山市', '翔安区', '温州市', '大东区', '巢湖市',\n",
       "       '乐平市', '简阳市', '稷山县', '吴兴区', '璧山区', '城阳区', '虞城县', '麦积区', '东宝区',\n",
       "       '锡山区', '台儿庄区', '博罗县', '周村区', '红塔区', '旌德县', '河西区', '堆龙德庆区', '白碱滩区',\n",
       "       '湘桥区', '望城区', '濠江区', '浏阳市', '二七区', '安吉县', '通城县', '陕西', '高邮市',\n",
       "       '浦城县', '垫江县', '阳春市', '祁阳县', '福泉市', '乐清市', '黑龙江', '福建', '湖南', '重庆',\n",
       "       '甘肃', '浙江', '佛山市', '惠州市', '济宁市', '厦门市', '遵义市', '南宁市', '绍兴市', '武汉市',\n",
       "       '宁波市', '乌鲁木齐市', '台州市', '益阳市', '中原区', '密云区', '酒泉市', '郫县', '西安市',\n",
       "       '武清区', '金坛市', '集宁区', '蔡甸区', '余江县', '金东区', '禹王台区', '宏伟区', '潮州市',\n",
       "       '桐城市', '什邡市', '湛江市', '丰城市', '甘井子区', '岱岳区', '宁海县', '石河子市', '沧县',\n",
       "       '博爱县', '汉台区', '津南区', '阳谷县', '沅江市', '建阳区', '曲周县', '江海区', '徐州市',\n",
       "       '广州市', '长治县', '上海市', '鼎湖区', '管城回族区', '市北区', '长寿区', '北辰区', '泉港区',\n",
       "       '江岸区', '宝山区', '大同县', '正定县', '柯城区', '姜堰区', '孟津县', '桃源县', '九龙坡区',\n",
       "       '大冶市', '十堰市', '临川区', '六合区', '铜山区', '昌邑市', '长宁区', '苏州市', '雨花台区',\n",
       "       '靖江市', '和林格尔县', '唐山市', '辽宁', '邗江区', '静安区', '石首市', '潮安区', '恩平市',\n",
       "       '金华市', '保定市', '双流区', '柘荣县', '奉化区', '钢城区', '田家庵区', '阜新市', '惠阳区',\n",
       "       '台前县', '云浮市', '东川区', '双阳区', '嵊州市', '榆中县', '大竹县', '琅琊区', '定陶区',\n",
       "       '宝应县', '溧阳市', '拉萨市', '奉新县', '南京市', '龙海市', '山东', '荷塘区', '新吴区',\n",
       "       '社旗县', '江苏', '北京', '江西', '宁德市', '黄浦区', '襄州区', '达尔罕茂明安联合旗', '日照市',\n",
       "       '昆明市', '湾里区', '黄山区', '召陵区', '上饶市', '崇明区', '清城区', '水磨沟区', '海陵区',\n",
       "       '黄石港区', '红花岗区', '鹿城区', '万州区', '城北区', '城区', '武陵区', '秦淮区', '汶川县',\n",
       "       '重庆市', '兴山县', '塔城市', '灵石县', '富拉尔基区', '牡丹江市', '项城市', '龙沙区', '邹城市',\n",
       "       '太和区', '新源县', '颍州区', '土默特左旗', '龙安区', '罗庄区', '耀州区', '全椒县', '章贡区',\n",
       "       '市南区', '凌源市', '舟山市', '普兰店市', '嘉兴市', '江城区', '杨陵区', '城中区', '库尔勒市',\n",
       "       '万秀区', '镜湖区', '景谷傣族彝族自治县', '连云区', '新县', '海勃湾区', '当阳市', '振安区',\n",
       "       '丹徒区', '广饶县', '八步区', '湛河区', '鲅鱼圈区', '梁溪区', '锡林浩特市', '独山子区', '固安县',\n",
       "       '阳泉市', '芮城县', '肃州区', '阳明区', '阿拉尔市', '丰满区', '贵溪市', '东昌区',\n",
       "       '镇宁布依族苗族自治县', '兴宁市', '盘县', '苏家屯区', '萍乡市', '望花区', '义马市', '介休市',\n",
       "       '丰南区', '岳塘区', '头屯河区', '柳北区', '磐石市', '建安区', '滨城区', '南昌市', '荣成市',\n",
       "       '山阳区', '涿州市', '六安市', '麒麟区', '龙子湖区', '西昌市', '红古区', '仁怀市', '博乐市',\n",
       "       '天涯区', '衡水市', '殷都区', '兰溪市', '惠安县', '铜陵市', '榕城区', '建德市', '太原市',\n",
       "       '福清市', '沙坪坝区', '乳源瑶族自治县', '山西', '石鼓区', '兴宁区', '西宁市', '沧州市', '通海县',\n",
       "       '香坊区', '无棣县', '睢阳区', '皇姑区', '镇海区', '鹿邑县', '银川市', '南溪区', '汾阳市',\n",
       "       '平顶山市', '肇庆市', '通化县', '西工区', '隆阳区', '贵州', '滨州市', '三河市', '桓台县',\n",
       "       '北湖区', '濉溪县', '广安区', '相山区', '赤峰市', '文山市', '观山湖区', '矿区', '新兴区',\n",
       "       '韩城市', '青岛市', '城西区', '乌海市', '滦县', '谷城县', '延庆区', '泉州市', '红寺堡区',\n",
       "       '醴陵市', '襄垣县', '安宁区', '上杭县', '昌江黎族自治县', '良庆区', '云岩区', '扬州市', '哈尔滨市',\n",
       "       '东坡区', '庐江县', '鹿泉区', '五通桥区', '喀什地区', '上海', '延边朝鲜族自治州', '齐河县',\n",
       "       '永登县', '霍山县', '池州市', '乌鲁木齐县', '淮安区', '千山区', '衡东县', '井研县', '海州区',\n",
       "       '柳州市', '涟水县', '太湖县', '乐山市', '青田县', '洛阳市', '虎林市', '乐陵市', '芜湖市',\n",
       "       '广德县', '沈北新区', '长兴县', '临邑县', '晋安区', '潮南区', '丰泽区', '寿宁县', '昌吉回族自治州',\n",
       "       '东西湖区', '衢州市', '荔城区', '曾都区', '新余市', '临安市', '四川', '盐城市', '洞头区',\n",
       "       '牡丹区', '北海市', '镇江市', '武义县', '徽县', '鹤山市', '云南', '栾川县'], dtype=object)"
      ]
     },
     "execution_count": 54,
     "metadata": {},
     "output_type": "execute_result"
    }
   ],
   "source": [
    "df['城市'].unique()  #查看唯一值"
   ]
  },
  {
   "cell_type": "code",
   "execution_count": 53,
   "metadata": {},
   "outputs": [
    {
     "data": {
      "text/plain": [
       "915"
      ]
     },
     "execution_count": 53,
     "metadata": {},
     "output_type": "execute_result"
    }
   ],
   "source": [
    "len(df['城市'].unique())"
   ]
  },
  {
   "cell_type": "markdown",
   "metadata": {},
   "source": [
    "###  `关于一些重复的数据，df['城市'].replace('要替换的数据'，'替换为',inplace=True)`"
   ]
  },
  {
   "cell_type": "code",
   "execution_count": 56,
   "metadata": {},
   "outputs": [],
   "source": [
    "#df['产地'].replace(['西德','苏联'],['德国','俄罗斯'],inplace=True) #多个值的替换"
   ]
  },
  {
   "cell_type": "code",
   "execution_count": 59,
   "metadata": {},
   "outputs": [
    {
     "data": {
      "text/plain": [
       "2009/10/30    28\n",
       "2015/2/17     14\n",
       "2015/5/15     11\n",
       "1994/2/24     10\n",
       "2015/4/22     10\n",
       "1994/1/3      10\n",
       "2015/4/24     10\n",
       "2009/12/25     9\n",
       "2015/6/30      9\n",
       "2015/6/11      9\n",
       "Name: 上市时间, dtype: int64"
      ]
     },
     "execution_count": 59,
     "metadata": {},
     "output_type": "execute_result"
    }
   ],
   "source": [
    "df['上市时间'].value_counts()[:10]  #计算每一年的上市公司"
   ]
  },
  {
   "cell_type": "code",
   "execution_count": 61,
   "metadata": {},
   "outputs": [
    {
     "data": {
      "text/plain": [
       "海淀区     124\n",
       "南山区     104\n",
       "浦东新区     92\n",
       "宝安区      53\n",
       "福田区      53\n",
       "Name: 城市, dtype: int64"
      ]
     },
     "execution_count": 61,
     "metadata": {},
     "output_type": "execute_result"
    }
   ],
   "source": [
    "df['城市'].value_counts()[:5]  #查看上市公司最多的城市"
   ]
  },
  {
   "cell_type": "code",
   "execution_count": 62,
   "metadata": {},
   "outputs": [],
   "source": [
    "df.to_html('hah.html')"
   ]
  },
  {
   "cell_type": "code",
   "execution_count": null,
   "metadata": {},
   "outputs": [],
   "source": []
  }
 ],
 "metadata": {
  "kernelspec": {
   "display_name": "Python 3",
   "language": "python",
   "name": "python3"
  },
  "language_info": {
   "codemirror_mode": {
    "name": "ipython",
    "version": 3
   },
   "file_extension": ".py",
   "mimetype": "text/x-python",
   "name": "python",
   "nbconvert_exporter": "python",
   "pygments_lexer": "ipython3",
   "version": "3.6.5"
  }
 },
 "nbformat": 4,
 "nbformat_minor": 2
}
